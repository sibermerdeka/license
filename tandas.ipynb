{
 "cells": [
  {
   "cell_type": "code",
   "execution_count": 1,
   "metadata": {},
   "outputs": [],
   "source": [
    "import polars as pl"
   ]
  },
  {
   "cell_type": "code",
   "execution_count": 5,
   "metadata": {},
   "outputs": [
    {
     "data": {
      "text/html": [
       "<div><style>\n",
       ".dataframe > thead > tr,\n",
       ".dataframe > tbody > tr {\n",
       "  text-align: right;\n",
       "  white-space: pre-wrap;\n",
       "}\n",
       "</style>\n",
       "<small>shape: (10, 7)</small><table border=\"1\" class=\"dataframe\"><thead><tr><th>url</th><th>name</th><th>address</th><th>tags</th><th>lat</th><th>lng</th><th>rating</th></tr><tr><td>str</td><td>str</td><td>str</td><td>str</td><td>f64</td><td>f64</td><td>i64</td></tr></thead><tbody><tr><td>&quot;https://mywc.kpkt.gov.my/toile…</td><td>&quot;Medan Selera Seksyen 16, Banda…</td><td>&quot;Jalan 6C/5, Selangor&quot;</td><td>&quot;Mesra OKU, 24 Jam&quot;</td><td>2.942973</td><td>101.764401</td><td>5</td></tr><tr><td>&quot;https://mywc.kpkt.gov.my/toile…</td><td>&quot;Medan Selera Parit&quot;</td><td>&quot;Medan Selera Parit, Perak&quot;</td><td>&quot;Mesra OKU, 24 Jam&quot;</td><td>4.476968</td><td>100.908194</td><td>5</td></tr><tr><td>&quot;https://mywc.kpkt.gov.my/toile…</td><td>&quot;Pasar Sungkai&quot;</td><td>&quot;sungkai, Perak&quot;</td><td>&quot;Mesra OKU, Berbayar&quot;</td><td>4.00067</td><td>101.18209</td><td>5</td></tr><tr><td>&quot;https://mywc.kpkt.gov.my/toile…</td><td>&quot;Medan Selera Bidor&quot;</td><td>&quot;Bidor, Perak&quot;</td><td>&quot;Berbayar&quot;</td><td>4.05342</td><td>101.16549</td><td>5</td></tr><tr><td>&quot;https://mywc.kpkt.gov.my/toile…</td><td>&quot;Tandas Awam KPKT&quot;</td><td>&quot;Jalan Bukit Tinggi, Johor&quot;</td><td>&quot;Mesra OKU, Berbayar, Tempat Me…</td><td>3.39771</td><td>101.7679</td><td>5</td></tr><tr><td>&quot;https://mywc.kpkt.gov.my/toile…</td><td>&quot;Medan Selera Taman Desa Serdan…</td><td>&quot;Persiaran Desa Serdang 1, Sela…</td><td>&quot;24 Jam&quot;</td><td>3.0097</td><td>101.72431</td><td>4</td></tr><tr><td>&quot;https://mywc.kpkt.gov.my/toile…</td><td>&quot;Taman Tasik Cempaka, Bandar Ba…</td><td>&quot;Seksyen 9, Bandar Baru Bangi, …</td><td>&quot;Mesra OKU&quot;</td><td>2.960449</td><td>101.757464</td><td>4</td></tr><tr><td>&quot;https://mywc.kpkt.gov.my/toile…</td><td>&quot;Medan Selera Kampung Gajah&quot;</td><td>&quot;Medan Selera Kampung Gajah, Pe…</td><td>&quot;24 Jam&quot;</td><td>4.184687</td><td>100.939548</td><td>4</td></tr><tr><td>&quot;https://mywc.kpkt.gov.my/toile…</td><td>&quot;1 Mukim 1 Produk&quot;</td><td>&quot;Tandas Awam Bagan Serai, Perak&quot;</td><td>&quot;Mesra OKU, Berbayar&quot;</td><td>5.013469</td><td>100.534243</td><td>4</td></tr><tr><td>&quot;https://mywc.kpkt.gov.my/toile…</td><td>&quot;Hentian Raya&quot;</td><td>&quot;Parit Buntar, Perak&quot;</td><td>&quot;Mesra OKU, Berbayar, 24 Jam&quot;</td><td>5.118233</td><td>100.487113</td><td>4</td></tr></tbody></table></div>"
      ],
      "text/plain": [
       "shape: (10, 7)\n",
       "┌────────────────┬────────────────┬───────────────┬───────────────┬──────────┬────────────┬────────┐\n",
       "│ url            ┆ name           ┆ address       ┆ tags          ┆ lat      ┆ lng        ┆ rating │\n",
       "│ ---            ┆ ---            ┆ ---           ┆ ---           ┆ ---      ┆ ---        ┆ ---    │\n",
       "│ str            ┆ str            ┆ str           ┆ str           ┆ f64      ┆ f64        ┆ i64    │\n",
       "╞════════════════╪════════════════╪═══════════════╪═══════════════╪══════════╪════════════╪════════╡\n",
       "│ https://mywc.k ┆ Medan Selera   ┆ Jalan 6C/5,   ┆ Mesra OKU, 24 ┆ 2.942973 ┆ 101.764401 ┆ 5      │\n",
       "│ pkt.gov.my/toi ┆ Seksyen 16,    ┆ Selangor      ┆ Jam           ┆          ┆            ┆        │\n",
       "│ le…            ┆ Banda…         ┆               ┆               ┆          ┆            ┆        │\n",
       "│ https://mywc.k ┆ Medan Selera   ┆ Medan Selera  ┆ Mesra OKU, 24 ┆ 4.476968 ┆ 100.908194 ┆ 5      │\n",
       "│ pkt.gov.my/toi ┆ Parit          ┆ Parit, Perak  ┆ Jam           ┆          ┆            ┆        │\n",
       "│ le…            ┆                ┆               ┆               ┆          ┆            ┆        │\n",
       "│ https://mywc.k ┆ Pasar Sungkai  ┆ sungkai,      ┆ Mesra OKU,    ┆ 4.00067  ┆ 101.18209  ┆ 5      │\n",
       "│ pkt.gov.my/toi ┆                ┆ Perak         ┆ Berbayar      ┆          ┆            ┆        │\n",
       "│ le…            ┆                ┆               ┆               ┆          ┆            ┆        │\n",
       "│ https://mywc.k ┆ Medan Selera   ┆ Bidor, Perak  ┆ Berbayar      ┆ 4.05342  ┆ 101.16549  ┆ 5      │\n",
       "│ pkt.gov.my/toi ┆ Bidor          ┆               ┆               ┆          ┆            ┆        │\n",
       "│ le…            ┆                ┆               ┆               ┆          ┆            ┆        │\n",
       "│ https://mywc.k ┆ Tandas Awam    ┆ Jalan Bukit   ┆ Mesra OKU,    ┆ 3.39771  ┆ 101.7679   ┆ 5      │\n",
       "│ pkt.gov.my/toi ┆ KPKT           ┆ Tinggi, Johor ┆ Berbayar,     ┆          ┆            ┆        │\n",
       "│ le…            ┆                ┆               ┆ Tempat Me…    ┆          ┆            ┆        │\n",
       "│ https://mywc.k ┆ Medan Selera   ┆ Persiaran     ┆ 24 Jam        ┆ 3.0097   ┆ 101.72431  ┆ 4      │\n",
       "│ pkt.gov.my/toi ┆ Taman Desa     ┆ Desa Serdang  ┆               ┆          ┆            ┆        │\n",
       "│ le…            ┆ Serdan…        ┆ 1, Sela…      ┆               ┆          ┆            ┆        │\n",
       "│ https://mywc.k ┆ Taman Tasik    ┆ Seksyen 9,    ┆ Mesra OKU     ┆ 2.960449 ┆ 101.757464 ┆ 4      │\n",
       "│ pkt.gov.my/toi ┆ Cempaka,       ┆ Bandar Baru   ┆               ┆          ┆            ┆        │\n",
       "│ le…            ┆ Bandar Ba…     ┆ Bangi, …      ┆               ┆          ┆            ┆        │\n",
       "│ https://mywc.k ┆ Medan Selera   ┆ Medan Selera  ┆ 24 Jam        ┆ 4.184687 ┆ 100.939548 ┆ 4      │\n",
       "│ pkt.gov.my/toi ┆ Kampung Gajah  ┆ Kampung       ┆               ┆          ┆            ┆        │\n",
       "│ le…            ┆                ┆ Gajah, Pe…    ┆               ┆          ┆            ┆        │\n",
       "│ https://mywc.k ┆ 1 Mukim 1      ┆ Tandas Awam   ┆ Mesra OKU,    ┆ 5.013469 ┆ 100.534243 ┆ 4      │\n",
       "│ pkt.gov.my/toi ┆ Produk         ┆ Bagan Serai,  ┆ Berbayar      ┆          ┆            ┆        │\n",
       "│ le…            ┆                ┆ Perak         ┆               ┆          ┆            ┆        │\n",
       "│ https://mywc.k ┆ Hentian Raya   ┆ Parit Buntar, ┆ Mesra OKU,    ┆ 5.118233 ┆ 100.487113 ┆ 4      │\n",
       "│ pkt.gov.my/toi ┆                ┆ Perak         ┆ Berbayar, 24  ┆          ┆            ┆        │\n",
       "│ le…            ┆                ┆               ┆ Jam           ┆          ┆            ┆        │\n",
       "└────────────────┴────────────────┴───────────────┴───────────────┴──────────┴────────────┴────────┘"
      ]
     },
     "execution_count": 5,
     "metadata": {},
     "output_type": "execute_result"
    }
   ],
   "source": [
    "df = pl.read_csv(\"toilet_data.csv\")\n",
    "df"
   ]
  },
  {
   "cell_type": "code",
   "execution_count": 3,
   "metadata": {},
   "outputs": [
    {
     "data": {
      "text/html": [
       "<div><style>\n",
       ".dataframe > thead > tr,\n",
       ".dataframe > tbody > tr {\n",
       "  text-align: right;\n",
       "  white-space: pre-wrap;\n",
       "}\n",
       "</style>\n",
       "<small>shape: (5_142, 7)</small><table border=\"1\" class=\"dataframe\"><thead><tr><th>url</th><th>name</th><th>address</th><th>tags</th><th>lat</th><th>lng</th><th>rating</th></tr><tr><td>str</td><td>str</td><td>str</td><td>str</td><td>f64</td><td>f64</td><td>str</td></tr></thead><tbody><tr><td>&quot;https://mywc.kpkt.gov.my/toile…</td><td>&quot;Medan Selera Seksyen 16, Banda…</td><td>&quot;Jalan 6C/5, Selangor&quot;</td><td>&quot;Mesra OKU, 24 Jam&quot;</td><td>2.942973</td><td>101.764401</td><td>&quot;g&quot;</td></tr><tr><td>&quot;https://mywc.kpkt.gov.my/toile…</td><td>&quot;Medan Selera Parit&quot;</td><td>&quot;Medan Selera Parit, Perak&quot;</td><td>&quot;Mesra OKU, 24 Jam&quot;</td><td>4.476968</td><td>100.908194</td><td>&quot;g&quot;</td></tr><tr><td>&quot;https://mywc.kpkt.gov.my/toile…</td><td>&quot;Pasar Sungkai&quot;</td><td>&quot;sungkai, Perak&quot;</td><td>&quot;Mesra OKU, Berbayar&quot;</td><td>4.00067</td><td>101.18209</td><td>&quot;g&quot;</td></tr><tr><td>&quot;https://mywc.kpkt.gov.my/toile…</td><td>&quot;Medan Selera Bidor&quot;</td><td>&quot;Bidor, Perak&quot;</td><td>&quot;Berbayar&quot;</td><td>4.05342</td><td>101.16549</td><td>&quot;g&quot;</td></tr><tr><td>&quot;https://mywc.kpkt.gov.my/toile…</td><td>&quot;Tandas Awam KPKT&quot;</td><td>&quot;Jalan Bukit Tinggi, Johor&quot;</td><td>&quot;Mesra OKU, Berbayar, Tempat Me…</td><td>3.39771</td><td>101.7679</td><td>&quot;g&quot;</td></tr><tr><td>&hellip;</td><td>&hellip;</td><td>&hellip;</td><td>&hellip;</td><td>&hellip;</td><td>&hellip;</td><td>&hellip;</td></tr><tr><td>&quot;https://mywc.kpkt.gov.my/toile…</td><td>&quot;Shell&quot;</td><td>&quot;LOT PT 13106 PUTRA POINT PHASE…</td><td>&quot;24 Jam&quot;</td><td>2.823844</td><td>101.794581</td><td>&quot;g&quot;</td></tr><tr><td>&quot;https://mywc.kpkt.gov.my/toile…</td><td>&quot;Petron&quot;</td><td>&quot;BATU 2, JALAN AMPANGAN, MUKIM …</td><td>&quot;24 Jam&quot;</td><td>2.72364</td><td>101.957209</td><td>&quot;g&quot;</td></tr><tr><td>&quot;https://mywc.kpkt.gov.my/toile…</td><td>&quot;Pasar Bandar Kajang&quot;</td><td>&quot;Pasar Bandar Kajang, Selangor&quot;</td><td>&quot;Dalam Bangunan, Berbayar&quot;</td><td>2.991367</td><td>101.79256</td><td>&quot;g&quot;</td></tr><tr><td>&quot;https://mywc.kpkt.gov.my/toile…</td><td>&quot;Pasar Awam Parit Buntar&quot;</td><td>&quot;Jalan Maharaja, Perak&quot;</td><td>&quot;Dalam Bangunan, Berbayar&quot;</td><td>5.120134</td><td>100.487376</td><td>&quot;g&quot;</td></tr><tr><td>&quot;https://mywc.kpkt.gov.my/toile…</td><td>&quot;Pasar Seksyen 1, Bandar Baru B…</td><td>&quot;Seksyen 1, Bandar Baru Bangi, …</td><td>&quot;24 Jam&quot;</td><td>2.944677</td><td>101.769583</td><td>&quot;g&quot;</td></tr></tbody></table></div>"
      ],
      "text/plain": [
       "shape: (5_142, 7)\n",
       "┌────────────────┬────────────────┬───────────────┬───────────────┬──────────┬────────────┬────────┐\n",
       "│ url            ┆ name           ┆ address       ┆ tags          ┆ lat      ┆ lng        ┆ rating │\n",
       "│ ---            ┆ ---            ┆ ---           ┆ ---           ┆ ---      ┆ ---        ┆ ---    │\n",
       "│ str            ┆ str            ┆ str           ┆ str           ┆ f64      ┆ f64        ┆ str    │\n",
       "╞════════════════╪════════════════╪═══════════════╪═══════════════╪══════════╪════════════╪════════╡\n",
       "│ https://mywc.k ┆ Medan Selera   ┆ Jalan 6C/5,   ┆ Mesra OKU, 24 ┆ 2.942973 ┆ 101.764401 ┆ g      │\n",
       "│ pkt.gov.my/toi ┆ Seksyen 16,    ┆ Selangor      ┆ Jam           ┆          ┆            ┆        │\n",
       "│ le…            ┆ Banda…         ┆               ┆               ┆          ┆            ┆        │\n",
       "│ https://mywc.k ┆ Medan Selera   ┆ Medan Selera  ┆ Mesra OKU, 24 ┆ 4.476968 ┆ 100.908194 ┆ g      │\n",
       "│ pkt.gov.my/toi ┆ Parit          ┆ Parit, Perak  ┆ Jam           ┆          ┆            ┆        │\n",
       "│ le…            ┆                ┆               ┆               ┆          ┆            ┆        │\n",
       "│ https://mywc.k ┆ Pasar Sungkai  ┆ sungkai,      ┆ Mesra OKU,    ┆ 4.00067  ┆ 101.18209  ┆ g      │\n",
       "│ pkt.gov.my/toi ┆                ┆ Perak         ┆ Berbayar      ┆          ┆            ┆        │\n",
       "│ le…            ┆                ┆               ┆               ┆          ┆            ┆        │\n",
       "│ https://mywc.k ┆ Medan Selera   ┆ Bidor, Perak  ┆ Berbayar      ┆ 4.05342  ┆ 101.16549  ┆ g      │\n",
       "│ pkt.gov.my/toi ┆ Bidor          ┆               ┆               ┆          ┆            ┆        │\n",
       "│ le…            ┆                ┆               ┆               ┆          ┆            ┆        │\n",
       "│ https://mywc.k ┆ Tandas Awam    ┆ Jalan Bukit   ┆ Mesra OKU,    ┆ 3.39771  ┆ 101.7679   ┆ g      │\n",
       "│ pkt.gov.my/toi ┆ KPKT           ┆ Tinggi, Johor ┆ Berbayar,     ┆          ┆            ┆        │\n",
       "│ le…            ┆                ┆               ┆ Tempat Me…    ┆          ┆            ┆        │\n",
       "│ …              ┆ …              ┆ …             ┆ …             ┆ …        ┆ …          ┆ …      │\n",
       "│ https://mywc.k ┆ Shell          ┆ LOT PT 13106  ┆ 24 Jam        ┆ 2.823844 ┆ 101.794581 ┆ g      │\n",
       "│ pkt.gov.my/toi ┆                ┆ PUTRA POINT   ┆               ┆          ┆            ┆        │\n",
       "│ le…            ┆                ┆ PHASE…        ┆               ┆          ┆            ┆        │\n",
       "│ https://mywc.k ┆ Petron         ┆ BATU 2, JALAN ┆ 24 Jam        ┆ 2.72364  ┆ 101.957209 ┆ g      │\n",
       "│ pkt.gov.my/toi ┆                ┆ AMPANGAN,     ┆               ┆          ┆            ┆        │\n",
       "│ le…            ┆                ┆ MUKIM …       ┆               ┆          ┆            ┆        │\n",
       "│ https://mywc.k ┆ Pasar Bandar   ┆ Pasar Bandar  ┆ Dalam         ┆ 2.991367 ┆ 101.79256  ┆ g      │\n",
       "│ pkt.gov.my/toi ┆ Kajang         ┆ Kajang,       ┆ Bangunan,     ┆          ┆            ┆        │\n",
       "│ le…            ┆                ┆ Selangor      ┆ Berbayar      ┆          ┆            ┆        │\n",
       "│ https://mywc.k ┆ Pasar Awam     ┆ Jalan         ┆ Dalam         ┆ 5.120134 ┆ 100.487376 ┆ g      │\n",
       "│ pkt.gov.my/toi ┆ Parit Buntar   ┆ Maharaja,     ┆ Bangunan,     ┆          ┆            ┆        │\n",
       "│ le…            ┆                ┆ Perak         ┆ Berbayar      ┆          ┆            ┆        │\n",
       "│ https://mywc.k ┆ Pasar Seksyen  ┆ Seksyen 1,    ┆ 24 Jam        ┆ 2.944677 ┆ 101.769583 ┆ g      │\n",
       "│ pkt.gov.my/toi ┆ 1, Bandar Baru ┆ Bandar Baru   ┆               ┆          ┆            ┆        │\n",
       "│ le…            ┆ B…             ┆ Bangi, …      ┆               ┆          ┆            ┆        │\n",
       "└────────────────┴────────────────┴───────────────┴───────────────┴──────────┴────────────┴────────┘"
      ]
     },
     "execution_count": 3,
     "metadata": {},
     "output_type": "execute_result"
    }
   ],
   "source": [
    "df.filter(pl.col(\"rating\").is_in([\"1\", \"2\", \"3\", \"4\", \"5\"]).not_())"
   ]
  },
  {
   "cell_type": "code",
   "execution_count": null,
   "metadata": {},
   "outputs": [],
   "source": []
  }
 ],
 "metadata": {
  "kernelspec": {
   "display_name": ".venv",
   "language": "python",
   "name": "python3"
  },
  "language_info": {
   "codemirror_mode": {
    "name": "ipython",
    "version": 3
   },
   "file_extension": ".py",
   "mimetype": "text/x-python",
   "name": "python",
   "nbconvert_exporter": "python",
   "pygments_lexer": "ipython3",
   "version": "3.12.4"
  }
 },
 "nbformat": 4,
 "nbformat_minor": 2
}
